{
 "cells": [
  {
   "cell_type": "code",
   "execution_count": 1,
   "metadata": {},
   "outputs": [
    {
     "name": "stdout",
     "output_type": "stream",
     "text": [
      "Enter the Percentage : 99\n",
      "you have secured A+ \n"
     ]
    }
   ],
   "source": [
    "p = int(input('Enter the Percentage : '))\n",
    "if p >= 80 and p <= 100:\n",
    "    print('you have secured A+ ')\n",
    "elif p < 80 and p >= 70:\n",
    "    print('you have secured A ')\n",
    "elif p < 70 and p >= 60:\n",
    "    print('you have secured B ')\n",
    "elif p < 60 and p >= 50:\n",
    "    print('you have secured C ')\n",
    "elif p < 50:\n",
    "    print('sorry you are Failed better luck next time')\n",
    "else:\n",
    "    print('You have entered a inappropriate value')"
   ]
  },
  {
   "cell_type": "code",
   "execution_count": 2,
   "metadata": {},
   "outputs": [
    {
     "name": "stdout",
     "output_type": "stream",
     "text": [
      "Enter the Percentage : 75\n",
      "you have secured A \n"
     ]
    }
   ],
   "source": [
    "p = int(input('Enter the Percentage : '))\n",
    "if p >= 80 and p <= 100:\n",
    "    print('you have secured A+ ')\n",
    "elif p < 80 and p >= 70:\n",
    "    print('you have secured A ')\n",
    "elif p < 70 and p >= 60:\n",
    "    print('you have secured B ')\n",
    "elif p < 60 and p >= 50:\n",
    "    print('you have secured C ')\n",
    "elif p < 50:\n",
    "    print('sorry you are Failed better luck next time')\n",
    "else:\n",
    "    print('You have entered a inappropriate value')"
   ]
  },
  {
   "cell_type": "code",
   "execution_count": 3,
   "metadata": {},
   "outputs": [
    {
     "name": "stdout",
     "output_type": "stream",
     "text": [
      "Enter the Percentage : 66\n",
      "you have secured B \n"
     ]
    }
   ],
   "source": [
    "p = int(input('Enter the Percentage : '))\n",
    "if p >= 80 and p <= 100:\n",
    "    print('you have secured A+ ')\n",
    "elif p < 80 and p >= 70:\n",
    "    print('you have secured A ')\n",
    "elif p < 70 and p >= 60:\n",
    "    print('you have secured B ')\n",
    "elif p < 60 and p >= 50:\n",
    "    print('you have secured C ')\n",
    "elif p < 50:\n",
    "    print('sorry you are Failed better luck next time')\n",
    "else:\n",
    "    print('You have entered a inappropriate value')"
   ]
  },
  {
   "cell_type": "code",
   "execution_count": 4,
   "metadata": {},
   "outputs": [
    {
     "name": "stdout",
     "output_type": "stream",
     "text": [
      "Enter the Percentage : 54\n",
      "you have secured C \n"
     ]
    }
   ],
   "source": [
    "p = int(input('Enter the Percentage : '))\n",
    "if p >= 80 and p <= 100:\n",
    "    print('you have secured A+ ')\n",
    "elif p < 80 and p >= 70:\n",
    "    print('you have secured A ')\n",
    "elif p < 70 and p >= 60:\n",
    "    print('you have secured B ')\n",
    "elif p < 60 and p >= 50:\n",
    "    print('you have secured C ')\n",
    "elif p < 50:\n",
    "    print('sorry you are Failed better luck next time')\n",
    "else:\n",
    "    print('You have entered a inappropriate value')"
   ]
  },
  {
   "cell_type": "code",
   "execution_count": 5,
   "metadata": {},
   "outputs": [
    {
     "name": "stdout",
     "output_type": "stream",
     "text": [
      "Enter the Percentage : 49\n",
      "sorry you are Failed better luck next time\n"
     ]
    }
   ],
   "source": [
    "p = int(input('Enter the Percentage : '))\n",
    "if p >= 80 and p <= 100:\n",
    "    print('you have secured A+ ')\n",
    "elif p < 80 and p >= 70:\n",
    "    print('you have secured A ')\n",
    "elif p < 70 and p >= 60:\n",
    "    print('you have secured B ')\n",
    "elif p < 60 and p >= 50:\n",
    "    print('you have secured C ')\n",
    "elif p < 50:\n",
    "    print('sorry you are Failed better luck next time')\n",
    "else:\n",
    "    print('You have entered a inappropriate value')\n",
    "else:\n",
    "    print('You have entered a inappropriate value')"
   ]
  },
  {
   "cell_type": "code",
   "execution_count": 2,
   "metadata": {},
   "outputs": [
    {
     "name": "stdout",
     "output_type": "stream",
     "text": [
      "Enter the Percentage : 110\n",
      "You have entered a inappropriate value\n"
     ]
    }
   ],
   "source": [
    "p = int(input('Enter the Percentage : '))\n",
    "if p >= 80 and p <= 100:\n",
    "    print('you have secured A+ ')\n",
    "elif p < 80 and p >= 70:\n",
    "    print('you have secured A ')\n",
    "elif p < 70 and p >= 60:\n",
    "    print('you have secured B ')\n",
    "elif p < 60 and p >= 50:\n",
    "    print('you have secured C ')\n",
    "elif p < 50:\n",
    "    print('sorry you are Failed better luck next time')\n",
    "else:\n",
    "    print('You have entered a inappropriate value')"
   ]
  },
  {
   "cell_type": "code",
   "execution_count": null,
   "metadata": {},
   "outputs": [],
   "source": []
  }
 ],
 "metadata": {
  "kernelspec": {
   "display_name": "Python 3",
   "language": "python",
   "name": "python3"
  },
  "language_info": {
   "codemirror_mode": {
    "name": "ipython",
    "version": 3
   },
   "file_extension": ".py",
   "mimetype": "text/x-python",
   "name": "python",
   "nbconvert_exporter": "python",
   "pygments_lexer": "ipython3",
   "version": "3.7.3"
  }
 },
 "nbformat": 4,
 "nbformat_minor": 2
}
