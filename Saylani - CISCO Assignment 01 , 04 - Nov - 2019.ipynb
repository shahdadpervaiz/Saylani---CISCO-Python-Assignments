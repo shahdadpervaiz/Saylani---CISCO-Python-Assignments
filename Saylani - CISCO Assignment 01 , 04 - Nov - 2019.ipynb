{
 "cells": [
  {
   "cell_type": "markdown",
   "metadata": {},
   "source": [
    "# 1. Write a Python program to print the following string in a specific format\n",
    "(see the output).\n",
    "\n",
    "Twinkle, twinkle, little star,\n",
    "How I wonder what you are!\n",
    "Up above the world so high,\n",
    "Like a diamond in the sky.\n",
    "\n",
    "Twinkle, twinkle, little star,\n",
    "How I wonder what you are"
   ]
  },
  {
   "cell_type": "code",
   "execution_count": 48,
   "metadata": {},
   "outputs": [
    {
     "name": "stdout",
     "output_type": "stream",
     "text": [
      "\t    Twinkle, twinkle, little star,\n",
      "\t\t  How I wonder what you are!\n",
      "\t\t\t Up above the world so high,\n",
      "\t\t\t Like a diamond in the sky.\n",
      "\n",
      "\t    Twinkle, twinkle, little star,\n",
      "\t\t  How I wonder what you are\n"
     ]
    }
   ],
   "source": [
    "###    Q1   #####\n",
    "\n",
    "print('''\\t    Twinkle, twinkle, little star,\n",
    "\\t\\t  How I wonder what you are!\n",
    "\\t\\t\\t Up above the world so high,\n",
    "\\t\\t\\t Like a diamond in the sky.\n",
    "\n",
    "\\t    Twinkle, twinkle, little star,\n",
    "\\t\\t  How I wonder what you are''')\n"
   ]
  },
  {
   "cell_type": "markdown",
   "metadata": {},
   "source": [
    "\n",
    "# 2. Write a Python program to get the Python version you are using"
   ]
  },
  {
   "cell_type": "code",
   "execution_count": 4,
   "metadata": {},
   "outputs": [
    {
     "name": "stdout",
     "output_type": "stream",
     "text": [
      "currently using python version :  3.7.3 (default, Mar 28 2019, 10:38:38) [MSC v.1915 32 bit (Intel)]\n"
     ]
    }
   ],
   "source": [
    "###   Q2   #####\n",
    "\n",
    "import sys\n",
    "print('currently using python version : ',sys.version)"
   ]
  },
  {
   "cell_type": "markdown",
   "metadata": {},
   "source": [
    "# 3. Write a Python program to display the current date and time."
   ]
  },
  {
   "cell_type": "code",
   "execution_count": 7,
   "metadata": {},
   "outputs": [
    {
     "name": "stdout",
     "output_type": "stream",
     "text": [
      "2019-11-04 20:31:47.901489\n"
     ]
    }
   ],
   "source": [
    "###    Q3   #####\n",
    "\n",
    "from datetime import datetime\n",
    "print(datetime.now())  "
   ]
  },
  {
   "cell_type": "markdown",
   "metadata": {},
   "source": [
    "# 4. Write a Python program which accepts the radius of a circle from the user and compute the area."
   ]
  },
  {
   "cell_type": "code",
   "execution_count": 10,
   "metadata": {},
   "outputs": [
    {
     "name": "stdout",
     "output_type": "stream",
     "text": [
      "Enter the Radius = 4\n",
      "Radius of the circle is : 4.0\n",
      "Area of the circle is : 50.26548245743669\n"
     ]
    }
   ],
   "source": [
    "###    Q4   #####\n",
    "\n",
    "import math\n",
    "radius = float(input('Enter the Radius = '))\n",
    "area = math.pi*(radius**2)\n",
    "print(f'Radius of the circle is : {radius}')\n",
    "print(f'Area of the circle is : {area}')"
   ]
  },
  {
   "cell_type": "markdown",
   "metadata": {},
   "source": [
    "# 5. Write a Python program which accepts the user's first and last name and print them in reverse order with a space between them."
   ]
  },
  {
   "cell_type": "code",
   "execution_count": 9,
   "metadata": {},
   "outputs": [
    {
     "name": "stdout",
     "output_type": "stream",
     "text": [
      "Pervez Sharif Shahdad\n"
     ]
    }
   ],
   "source": [
    "###    Q5   #####\n",
    "\n",
    "first_name = \"Shahdad\"\n",
    "last_name = \"Pervez Sharif\"\n",
    "print(last_name +' '+ first_name)"
   ]
  },
  {
   "cell_type": "markdown",
   "metadata": {},
   "source": [
    "# 6. Write a python program which takes two inputs from user and print them addition"
   ]
  },
  {
   "cell_type": "code",
   "execution_count": 11,
   "metadata": {},
   "outputs": [
    {
     "name": "stdout",
     "output_type": "stream",
     "text": [
      "Enter the First Number : 4\n",
      "Enter the Second Number : 4\n",
      "8.0\n"
     ]
    }
   ],
   "source": [
    "###    Q6   #####\n",
    "\n",
    "n1 = float(input('Enter the First Number : '))\n",
    "n2 = float(input('Enter the Second Number : '))\n",
    "print(n1 + n2)"
   ]
  }
 ],
 "metadata": {
  "kernelspec": {
   "display_name": "Python 3",
   "language": "python",
   "name": "python3"
  },
  "language_info": {
   "codemirror_mode": {
    "name": "ipython",
    "version": 3
   },
   "file_extension": ".py",
   "mimetype": "text/x-python",
   "name": "python",
   "nbconvert_exporter": "python",
   "pygments_lexer": "ipython3",
   "version": "3.6.9"
  }
 },
 "nbformat": 4,
 "nbformat_minor": 2
}
