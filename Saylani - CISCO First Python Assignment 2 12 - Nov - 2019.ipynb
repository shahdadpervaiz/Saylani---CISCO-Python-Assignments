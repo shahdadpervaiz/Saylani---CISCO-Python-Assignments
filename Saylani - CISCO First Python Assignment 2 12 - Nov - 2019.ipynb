{
 "cells": [
  {
   "cell_type": "code",
   "execution_count": null,
   "metadata": {},
   "outputs": [],
   "source": [
    "\n"
   ]
  },
  {
   "cell_type": "markdown",
   "metadata": {},
   "source": [
    "# 1. Write a program which takes 5 inputs from user for different subject’s marks, total it and generate mark sheet using grades ?"
   ]
  },
  {
   "cell_type": "code",
   "execution_count": 6,
   "metadata": {},
   "outputs": [
    {
     "name": "stdout",
     "output_type": "stream",
     "text": [
      "Enter Marks obtained in A.I for Everyone : 99\n",
      "Enter Marks obtained in Python 1 : 95\n",
      "Enter Marks obtained in Python 2 : 84\n",
      "Enter Marks obtained in Git : 93\n",
      "Enter Marks obtained in Numpy : 88\n",
      "\t Total Marks Obtained 459\n",
      "\t Achieved %  91.8\n",
      "\t Secured A+\n"
     ]
    }
   ],
   "source": [
    "m1 = int(input('Enter Marks obtained in A.I for Everyone : '))\n",
    "m2 = int(input('Enter Marks obtained in Python 1 : '))\n",
    "m3 = int(input('Enter Marks obtained in Python 2 : '))\n",
    "m4 = int(input('Enter Marks obtained in Git : '))\n",
    "m5 = int(input('Enter Marks obtained in Numpy : '))\n",
    "total_marks = m1+m2+m3+m4+m5\n",
    "print('\\t Total Marks Obtained',total_marks)\n",
    "per =  total_marks / 500 * 100\n",
    "print('\\t Achieved % ' ,per)\n",
    "if per >= 80 and per <= 100:\n",
    "    print('\\t Secured A+')\n",
    "elif per >= 70 and per < 80:\n",
    "    print('\\t Secured A')\n",
    "elif per >= 60 and per < 70:\n",
    "    print('\\t Secured B')\n",
    "elif per >= 50 and per < 60:\n",
    "    print('\\t Secured C')\n",
    "else:\n",
    "    print('Fail')"
   ]
  },
  {
   "cell_type": "code",
   "execution_count": null,
   "metadata": {},
   "outputs": [],
   "source": []
  },
  {
   "cell_type": "markdown",
   "metadata": {},
   "source": [
    "# 2. Write a program which take input from user and identify that the given number is even or odd?"
   ]
  },
  {
   "cell_type": "code",
   "execution_count": 14,
   "metadata": {},
   "outputs": [
    {
     "name": "stdout",
     "output_type": "stream",
     "text": [
      "Enter the Number: 4\n",
      "Given Number is  Even\n"
     ]
    }
   ],
   "source": [
    "numb= int(input(\"Enter the Number: \"))\n",
    "c =  numb % 2\n",
    "if c == 1:\n",
    "    print(\"Given Number is Odd\")\n",
    "else:\n",
    "    print(\"Given Number is  Even\")\n"
   ]
  },
  {
   "cell_type": "code",
   "execution_count": null,
   "metadata": {},
   "outputs": [],
   "source": []
  },
  {
   "cell_type": "markdown",
   "metadata": {},
   "source": [
    "# 3. Write a program which print the length of the list?"
   ]
  },
  {
   "cell_type": "code",
   "execution_count": 8,
   "metadata": {},
   "outputs": [
    {
     "name": "stdout",
     "output_type": "stream",
     "text": [
      "The Length Of The Given List Is: 12\n"
     ]
    }
   ],
   "source": [
    "a = [1, 1.4, 2, a, 3, 5, 8, 13, 21, 34, 55, 89]\n",
    "print('the length of the given list is:' .title() ,len(a))"
   ]
  },
  {
   "cell_type": "code",
   "execution_count": null,
   "metadata": {},
   "outputs": [],
   "source": []
  },
  {
   "cell_type": "markdown",
   "metadata": {},
   "source": [
    "# 4. Write a Python program to sum all the numeric items in a list?"
   ]
  },
  {
   "cell_type": "code",
   "execution_count": 2,
   "metadata": {},
   "outputs": [
    {
     "name": "stdout",
     "output_type": "stream",
     "text": [
      "Sum All The Numeric Items In A List Is : 232\n"
     ]
    }
   ],
   "source": [
    "a = [1, 1, 2, 3, 5, 8, 13, 21, 34, 55, 89]\n",
    "b = sum(a)\n",
    "print('sum all the numeric items in a list is :'.title(),b)"
   ]
  },
  {
   "cell_type": "code",
   "execution_count": null,
   "metadata": {},
   "outputs": [],
   "source": []
  },
  {
   "cell_type": "markdown",
   "metadata": {},
   "source": [
    "# 5. Write a Python program to get the largest number from a numeric list."
   ]
  },
  {
   "cell_type": "code",
   "execution_count": 10,
   "metadata": {},
   "outputs": [
    {
     "name": "stdout",
     "output_type": "stream",
     "text": [
      "The Largest Number From A Numeric List Is :  89\n"
     ]
    }
   ],
   "source": [
    "a = [1, 1, 2, 3, 5, 8, 13, 21, 34, 55, 89]\n",
    "print('The Largest number from a numeric list is : ' .title(),max(a))"
   ]
  },
  {
   "cell_type": "code",
   "execution_count": null,
   "metadata": {},
   "outputs": [],
   "source": []
  },
  {
   "cell_type": "markdown",
   "metadata": {},
   "source": [
    "# 6. Take a list, say for example this one:\n",
    "a = [1, 1, 2, 3, 5, 8, 13, 21, 34, 55, 89]\n",
    "\n",
    "and write a program that prints out all the elements of the list that are\n",
    "less than 5.#"
   ]
  },
  {
   "cell_type": "code",
   "execution_count": 6,
   "metadata": {},
   "outputs": [
    {
     "name": "stdout",
     "output_type": "stream",
     "text": [
      " The Elements Of The List That Are Less Than 5 Are : 1\n",
      " The Elements Of The List That Are Less Than 5 Are : 1\n",
      " The Elements Of The List That Are Less Than 5 Are : 2\n",
      " The Elements Of The List That Are Less Than 5 Are : 3\n"
     ]
    }
   ],
   "source": [
    "a = [1, 1, 2, 3, 5, 8, 13, 21, 34, 55, 89]\n",
    "for b in a :\n",
    "    if b < 5:\n",
    "        print(' the elements of the list that are less than 5 are :'.title() ,b)"
   ]
  },
  {
   "cell_type": "code",
   "execution_count": null,
   "metadata": {},
   "outputs": [],
   "source": []
  }
 ],
 "metadata": {
  "kernelspec": {
   "display_name": "Python 3",
   "language": "python",
   "name": "python3"
  },
  "language_info": {
   "codemirror_mode": {
    "name": "ipython",
    "version": 3
   },
   "file_extension": ".py",
   "mimetype": "text/x-python",
   "name": "python",
   "nbconvert_exporter": "python",
   "pygments_lexer": "ipython3",
   "version": "3.6.9"
  }
 },
 "nbformat": 4,
 "nbformat_minor": 2
}
