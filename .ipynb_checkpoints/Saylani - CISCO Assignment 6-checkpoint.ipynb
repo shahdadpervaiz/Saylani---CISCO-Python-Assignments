{
 "cells": [
  {
   "cell_type": "code",
   "execution_count": null,
   "metadata": {},
   "outputs": [],
   "source": []
  },
  {
   "cell_type": "markdown",
   "metadata": {},
   "source": [
    "# Question 1:\n",
    "Define Object Oriented Programming Language?\n",
    "\n",
    "### Object oriented programming :\n",
    "\n",
    "        ' The pattern of codes that deals in terms of Objects and their intractions '"
   ]
  },
  {
   "cell_type": "markdown",
   "metadata": {},
   "source": [
    "# Question 2:\n",
    "List down the Benefits of OOP?"
   ]
  },
  {
   "cell_type": "markdown",
   "metadata": {},
   "source": [
    "1. inheritance let us reuse the class without coding the new one.\n",
    "2. it is easy to maintain the data in object oriented programming\n",
    "3. "
   ]
  },
  {
   "cell_type": "markdown",
   "metadata": {},
   "source": [
    "# Question 3 \n",
    "Differentiate between function and method?\n",
    "\n",
    "### Function:\n",
    "\n",
    "        'Function is a collection of codes'\n",
    "\n",
    "### Method:\n",
    "\n",
    "        'Method is the functionality of the object or a Function in the class '"
   ]
  },
  {
   "cell_type": "code",
   "execution_count": null,
   "metadata": {},
   "outputs": [],
   "source": []
  },
  {
   "cell_type": "markdown",
   "metadata": {},
   "source": [
    "# Question 4:\n",
    "Define the following terms:\n",
    "\n",
    "### 1. Class :\n",
    "\n",
    "        'A class is a template or blueprint of an object '\n",
    "        \n",
    "### 2. Object :\n",
    "        'A data structure which is defined by its class'\n",
    "\n",
    "### 3. Attribute :\n",
    "        'A variable that holds data of the class '\n",
    "\n",
    "\n",
    "### 4. Behavior :\n",
    "        '"
   ]
  },
  {
   "cell_type": "code",
   "execution_count": null,
   "metadata": {},
   "outputs": [],
   "source": []
  },
  {
   "cell_type": "markdown",
   "metadata": {},
   "source": [
    "# Question 5:\n",
    "Write a code in python in which create a class named it Car which\n",
    "have 5 attributes such like (model, color and name etc.) and 3\n",
    "methods. And create 5 object instance from that class."
   ]
  },
  {
   "cell_type": "code",
   "execution_count": 45,
   "metadata": {},
   "outputs": [
    {
     "name": "stdout",
     "output_type": "stream",
     "text": [
      "==================================\n",
      "\t\t *** Car 1 *** \n",
      "\n",
      "The car Name is  :  Suzuki\n",
      "The car Model is :  Mehran\n",
      "The car Color is :  White\n",
      "==================================\n",
      "\n",
      "\t\t *** Car 2 *** \n",
      "\n",
      "The car Name is  :  TOYOTA\n",
      "The car Model is :  Corolla\n",
      "The car Color is :  White\n",
      "==================================\n",
      "\n",
      "\t\t *** Car 3 *** \n",
      "\n",
      "The car Name is  :  Honda\n",
      "The car Model is :  Civic\n",
      "The car Color is :  Blue\n",
      "==================================\n",
      "\n",
      "\t\t *** Car 4 *** \n",
      "\n",
      "The car Name is  :  Suzuki\n",
      "The car Model is :  Wagon R\n",
      "The car Color is :  Red\n",
      "==================================\n",
      "\n",
      "\t\t *** Car 5 *** \n",
      "\n",
      "The car Name is  :  TOYOTA\n",
      "The car Model is :  Hilux\n",
      "The car Color is :  Red\n"
     ]
    }
   ],
   "source": [
    "class car:\n",
    "    def __init__(self,Name,Model,Color):\n",
    "        self.Name = Name\n",
    "        self.Model = Model\n",
    "        self.Color = Color\n",
    "\n",
    "        \n",
    "    \n",
    "car_1 = car('Suzuki','Mehran','White')\n",
    "car_2 = car('TOYOTA','Corolla','White')\n",
    "car_3 = car('Honda','Civic','Blue')\n",
    "car_4 = car('Suzuki','Wagon R','Red')\n",
    "car_5 = car('TOYOTA','Hilux','Red')\n",
    "\n",
    "print('==================================')\n",
    "print(\"\\t\\t *** Car 1 *** \\n\")\n",
    "\n",
    "print('The car Name is  : ',car_1.Name)\n",
    "print('The car Model is : ',car_1.Model)\n",
    "print('The car Color is : ',car_1.Color)\n",
    "\n",
    "\n",
    "print('==================================')\n",
    "print(\"\\n\\t\\t *** Car 2 *** \\n\")\n",
    "\n",
    "print('The car Name is  : ',car_2.Name)\n",
    "print('The car Model is : ',car_2.Model)\n",
    "print('The car Color is : ',car_2.Color)\n",
    "\n",
    "\n",
    "print('==================================')\n",
    "print(\"\\n\\t\\t *** Car 3 *** \\n\")\n",
    "\n",
    "print('The car Name is  : ',car_3.Name)\n",
    "print('The car Model is : ',car_3.Model)\n",
    "print('The car Color is : ',car_3.Color)\n",
    "\n",
    "\n",
    "print('==================================')\n",
    "print(\"\\n\\t\\t *** Car 4 *** \\n\")\n",
    "\n",
    "print('The car Name is  : ',car_4.Name)\n",
    "print('The car Model is : ',car_4.Model)\n",
    "print('The car Color is : ',car_4.Color)\n",
    "\n",
    "print('==================================')\n",
    "print(\"\\n\\t\\t *** Car 5 *** \\n\")\n",
    "\n",
    "print('The car Name is  : ',car_5.Name)\n",
    "print('The car Model is : ',car_5.Model)\n",
    "print('The car Color is : ',car_5.Color)"
   ]
  },
  {
   "cell_type": "code",
   "execution_count": null,
   "metadata": {},
   "outputs": [],
   "source": []
  },
  {
   "cell_type": "code",
   "execution_count": null,
   "metadata": {},
   "outputs": [],
   "source": []
  }
 ],
 "metadata": {
  "kernelspec": {
   "display_name": "Python 3",
   "language": "python",
   "name": "python3"
  },
  "language_info": {
   "codemirror_mode": {
    "name": "ipython",
    "version": 3
   },
   "file_extension": ".py",
   "mimetype": "text/x-python",
   "name": "python",
   "nbconvert_exporter": "python",
   "pygments_lexer": "ipython3",
   "version": "3.6.9"
  }
 },
 "nbformat": 4,
 "nbformat_minor": 2
}
