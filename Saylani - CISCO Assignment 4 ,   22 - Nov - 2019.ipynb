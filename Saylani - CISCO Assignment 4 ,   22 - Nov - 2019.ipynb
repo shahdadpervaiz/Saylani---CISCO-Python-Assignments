{
 "cells": [
  {
   "cell_type": "markdown",
   "metadata": {},
   "source": [
    "# Question1:\n",
    "Use a dictionary to store information about a person you know. Store their first name, last name, age,\n",
    "and the city in which they live. You should have keys such as first_name, last_name, age, and city. Print\n",
    "each piece of information stored in your dictionary. Add a new key value pair about qualification then\n",
    "update the qualification value to high academic level then delete it.#"
   ]
  },
  {
   "cell_type": "code",
   "execution_count": 9,
   "metadata": {},
   "outputs": [
    {
     "name": "stdout",
     "output_type": "stream",
     "text": [
      "\n",
      "\t\t **Information of a Person**\n",
      "\n",
      "First_name : Shahdad\n",
      "Last_name : Pervez Sharif\n",
      "Age : 27\n",
      "City : Karachi\n",
      "\n",
      "\t\t **Adding Qualification**\n",
      "\n",
      "First_name : Shahdad\n",
      "Last_name : Pervez Sharif\n",
      "Age : 27\n",
      "City : Karachi\n",
      "Qualification : Intermediate\n",
      "\n",
      "\t\t **Deleting Qualification**\n",
      "\n",
      "First_name : Shahdad\n",
      "Last_name : Pervez Sharif\n",
      "Age : 27\n",
      "City : Karachi\n"
     ]
    }
   ],
   "source": [
    "info_dic = {'First_name' : 'Shahdad', 'Last_name' : 'Pervez Sharif', 'Age' : 27 , 'City' : 'Karachi' }\n",
    "print('\\n\\t\\t **Information of a Person**\\n')\n",
    "for key,value in info_dic.items():\n",
    "    print(key,  \":\", value)\n",
    "    \n",
    "print('\\n\\t\\t **Adding Qualification**\\n')\n",
    "info_dic['Qualification'] = 'Intermediate'\n",
    "for key,value in info_dic.items():\n",
    "    print(key,   \":\", value)\n",
    "\n",
    "print('\\n\\t\\t **Deleting Qualification**\\n')\n",
    "del info_dic['Qualification']\n",
    "for key,value in info_dic.items():\n",
    "    print(key,   \":\", value)"
   ]
  },
  {
   "cell_type": "code",
   "execution_count": null,
   "metadata": {},
   "outputs": [],
   "source": []
  },
  {
   "cell_type": "markdown",
   "metadata": {},
   "source": [
    "# Question2:\n",
    "Make a dictionary called cities. Use the names of three cities as keys in your dictionary. Create a\n",
    "dictionary of information about each city and include the country that the city is in, its approximate\n",
    "population, and one fact about that city. The keys for each city’s dictionary should be something like\n",
    "country, population, and fact. Print the name of each city and all of the information you have stored\n",
    "about it."
   ]
  },
  {
   "cell_type": "code",
   "execution_count": 10,
   "metadata": {},
   "outputs": [
    {
     "name": "stdout",
     "output_type": "stream",
     "text": [
      "Karachi :\n",
      "\n",
      "\tCountry : Pakistan\n",
      "\n",
      "\tPopulation : 25 Million\n",
      "\n",
      "\tFact : Multicultural Population\n",
      "\n",
      "Lahore :\n",
      "\n",
      "\tCountry : Turkey\n",
      "\n",
      "\tPopulation : 15.07 Million\n",
      "\n",
      "\tFact :  The Capital City Of Three Major Empires\n",
      "\n",
      "Islamabad :\n",
      "\n",
      "\tCountry : France\n",
      "\n",
      "\tPopulation : 2.141 Million\n",
      "\n",
      "\tFact : Eiffel Tower\n",
      "\n"
     ]
    }
   ],
   "source": [
    "cities = {\n",
    "    'Karachi' : {   \n",
    "                    'country'    : 'Pakistan' ,\n",
    "                    'population' : '25 million',\n",
    "                    'fact'       : 'multicultural population'\n",
    "                },\n",
    "     'Lahore' : {\n",
    "                     'Country'   :  'Turkey' ,\n",
    "                     'Population':  '15.07 million',\n",
    "                     'fact'      :  \" the capital city of three major Empires\"\n",
    "                 },\n",
    "      'Islamabad' : {\n",
    "                      'Country'   : 'France' ,\n",
    "                     'Population' : '2.141 million',\n",
    "                     'fact'       : \"Eiffel Tower\"\n",
    "                  },\n",
    " }\n",
    "for a in cities:\n",
    "    print(a.title(),\":\\n\")\n",
    "    for k,v in cities[a].items():\n",
    "        print(f'\\t{k} : {v}\\n'.title())\n"
   ]
  },
  {
   "cell_type": "code",
   "execution_count": null,
   "metadata": {},
   "outputs": [],
   "source": []
  },
  {
   "cell_type": "markdown",
   "metadata": {},
   "source": [
    "# Question3:\n",
    "A movie theater charges different ticket prices depending on a person’s age. If a person is under the age\n",
    "of 3, the ticket is free; if they are between 3 and 12, the ticket is $10; and if they are over age 12, the\n",
    "ticket is $15. Write a loop in which you ask users their age, and then tell them the cost of their movie\n",
    "ticket."
   ]
  },
  {
   "cell_type": "code",
   "execution_count": 4,
   "metadata": {},
   "outputs": [
    {
     "name": "stdout",
     "output_type": "stream",
     "text": [
      "Enter s to stop!\n",
      "\n",
      "Enter Age: 3\n",
      "\n",
      "Your Ticket is Free!\n",
      "\n",
      "Enter Age: 11\n",
      "\n",
      "Ticket Price is $10\n",
      "\n",
      "Enter Age: 25\n",
      "\n",
      "Ticket Price is $15\n",
      "\n",
      "Enter Age: s\n",
      "\n",
      "\t Have a nice day\n"
     ]
    }
   ],
   "source": [
    "print(\"Enter s to stop!\")\n",
    "\n",
    "while True:\n",
    "    en_age = input(\"\\nEnter Age: \")\n",
    "    if en_age in \"sS\":\n",
    "        print(\"\\n\\t Have a nice day\")\n",
    "        break\n",
    "    else:\n",
    "        if int(en_age) >= 1 and int(en_age) <= 3:\n",
    "            print(\"\\nYour Ticket is Free!\")\n",
    "        elif int(en_age) > 3 and int(en_age) <= 12:\n",
    "            print(\"\\nTicket Price is $10\")\n",
    "        elif int(en_age) > 12:\n",
    "            print(\"\\nTicket Price is $15\")\n",
    "        else:\n",
    "            print(\"\\nInvalid Age!\")"
   ]
  },
  {
   "cell_type": "code",
   "execution_count": null,
   "metadata": {},
   "outputs": [],
   "source": []
  },
  {
   "cell_type": "markdown",
   "metadata": {},
   "source": [
    "# Question4:\n",
    "Write a function called favorite_book() that accepts one parameter, title. The function should print a\n",
    "message, such as One of my favorite books is Alice in Wonderland. Call the function, making sure to\n",
    "include a book title as an argument in the function call."
   ]
  },
  {
   "cell_type": "code",
   "execution_count": 70,
   "metadata": {},
   "outputs": [
    {
     "name": "stdout",
     "output_type": "stream",
     "text": [
      "My Favorite Book Is Alice In The Wonderland \n"
     ]
    }
   ],
   "source": [
    "def favorite_book(title):\n",
    "    print(f'my favorite book is {title} '.title())\n",
    "\n",
    "favorite_book(\"alice in the wonderland\")"
   ]
  },
  {
   "cell_type": "code",
   "execution_count": null,
   "metadata": {},
   "outputs": [],
   "source": []
  },
  {
   "cell_type": "markdown",
   "metadata": {},
   "source": [
    "# Question5:\n",
    "Guess the number game\n",
    "Write a program which randomly generate a number between 1 to 30 and ask the user in input field to\n",
    "guess the correct number. Give three chances to user guess the number and also give hint to user if\n",
    "hidden number is greater or smaller than the number he given to input field."
   ]
  },
  {
   "cell_type": "code",
   "execution_count": 12,
   "metadata": {},
   "outputs": [
    {
     "name": "stdout",
     "output_type": "stream",
     "text": [
      "Guess the Number : 16\n",
      "nice try,but the number is smaller : \n",
      "Guess the Number : 10\n",
      "nice try,but the number is smaller : \n",
      "Guess the Number : 5\n",
      "congratulations you guessed the correct number\n"
     ]
    }
   ],
   "source": [
    "import random\n",
    "guess = 0\n",
    "number = random.randint(1,31)\n",
    "\n",
    "while guess != 3:\n",
    "    guess += 1\n",
    "    answer = int(input('Guess the Number : ' ))\n",
    "    if answer == number:\n",
    "        print('congratulations you guessed the correct number')\n",
    "        break\n",
    "    elif answer > number:\n",
    "        print('nice try,but the number is smaller : ')\n",
    "    elif answer < number:\n",
    "        print('nice try,but the number is greater : ')\n",
    "    while guess == 3:\n",
    "        print('\\n\\t\\t**Game Over**')\n",
    "        print('\\n\\tnice try,the correct number was : '.title(), number)\n",
    "        break\n"
   ]
  },
  {
   "cell_type": "code",
   "execution_count": null,
   "metadata": {},
   "outputs": [],
   "source": []
  },
  {
   "cell_type": "code",
   "execution_count": null,
   "metadata": {},
   "outputs": [],
   "source": []
  }
 ],
 "metadata": {
  "kernelspec": {
   "display_name": "Python 3",
   "language": "python",
   "name": "python3"
  },
  "language_info": {
   "codemirror_mode": {
    "name": "ipython",
    "version": 3
   },
   "file_extension": ".py",
   "mimetype": "text/x-python",
   "name": "python",
   "nbconvert_exporter": "python",
   "pygments_lexer": "ipython3",
   "version": "3.6.9"
  }
 },
 "nbformat": 4,
 "nbformat_minor": 2
}
