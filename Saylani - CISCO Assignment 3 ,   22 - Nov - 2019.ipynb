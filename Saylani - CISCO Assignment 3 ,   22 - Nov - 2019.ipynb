{
 "cells": [
  {
   "cell_type": "markdown",
   "metadata": {},
   "source": [
    "# Q1. Make a calculator using python with addition, subtraction, multiplication, division and power."
   ]
  },
  {
   "cell_type": "code",
   "execution_count": 1,
   "metadata": {},
   "outputs": [
    {
     "name": "stdout",
     "output_type": "stream",
     "text": [
      "Enter a number: 9\n",
      "Enter a number: 4\n",
      "Enter an operator: *\n",
      "36\n"
     ]
    }
   ],
   "source": [
    "\n",
    "num_1 = int(input(\"Enter a number: \"))\n",
    "num_2 = int(input(\"Enter a number: \"))\n",
    "action = (input(\"Enter an operator: \"))\n",
    "if action == \"+\":\n",
    "    result = num_1 + num_2\n",
    "    print (result)\n",
    "elif action == \"-\":\n",
    "    result = num_1 - num_2\n",
    "    print (result)\n",
    "elif action == \"*\":\n",
    "    result = num_1 * num_2\n",
    "    print (result)\n",
    "elif action == \"/\":\n",
    "    result = num_1 / num_2  \n",
    "    print(result)\n",
    "elif action == \"**\":\n",
    "    result = num_1**num_2\n",
    "    print(result)\n",
    "else:\n",
    "    print('Enter correct operator.')"
   ]
  },
  {
   "cell_type": "markdown",
   "metadata": {},
   "source": [
    "# 2. Write a program to check if there is any numeric value in list using for loop"
   ]
  },
  {
   "cell_type": "code",
   "execution_count": 6,
   "metadata": {},
   "outputs": [
    {
     "name": "stdout",
     "output_type": "stream",
     "text": [
      "78 it is numeric value.\n",
      "33 it is numeric value.\n",
      "3 it is numeric value.\n",
      "shahdad  it is not numeric value.\n",
      "iqra  it is not numeric value.\n",
      "Ali  it is not numeric value.\n",
      "0.3 it is numeric value.\n",
      "4.7 it is numeric value.\n"
     ]
    }
   ],
   "source": [
    "list = [78, 33, 3, \"shahdad\", \"iqra\", 'Ali', 0.3, 4.7]\n",
    "for a in (list):\n",
    "    if a ==(str(a)):\n",
    "        print(f'{a}  it is not numeric value.')\n",
    "    else:\n",
    "        print( f\"{a} it is numeric value.\")"
   ]
  },
  {
   "cell_type": "code",
   "execution_count": null,
   "metadata": {},
   "outputs": [],
   "source": []
  },
  {
   "cell_type": "markdown",
   "metadata": {},
   "source": [
    "# Q3. Write a python script to add a key to a dictionary."
   ]
  },
  {
   "cell_type": "code",
   "execution_count": 27,
   "metadata": {},
   "outputs": [
    {
     "data": {
      "text/plain": [
       "{'ice_cream flovour': ['vanila', 'choclate', 'peshawari'],\n",
       " 'fast_food': ['burger', 'pizza'],\n",
       " 'beverages': ['tea', 'coffee', 'soft drink', 'juice', 'sweets']}"
      ]
     },
     "execution_count": 27,
     "metadata": {},
     "output_type": "execute_result"
    }
   ],
   "source": [
    "dict = {'ice_cream flovour': ['vanila', 'choclate', 'peshawari'], 'fast_food': ['burger', 'pizza']}\n",
    "\n",
    "dict['beverages']=['tea', 'coffee', 'soft drink', 'juice', 'sweets']\n",
    "dict"
   ]
  },
  {
   "cell_type": "code",
   "execution_count": null,
   "metadata": {},
   "outputs": [],
   "source": []
  },
  {
   "cell_type": "markdown",
   "metadata": {},
   "source": [
    "# Q4. Write a python program to sum all the numeric items in a dictionary.\n"
   ]
  },
  {
   "cell_type": "code",
   "execution_count": 25,
   "metadata": {},
   "outputs": [
    {
     "name": "stdout",
     "output_type": "stream",
     "text": [
      "dict_values([6, 6, 8])\n",
      "sum all the numeric items in a dictionary: 20\n"
     ]
    }
   ],
   "source": [
    "dict_1 = {'num': 6, 'num1': 6, 'num2': 8}\n",
    "print(dict_1.values())\n",
    "print('sum all the numeric items in a dictionary:' , sum(dict_1.values()))"
   ]
  },
  {
   "cell_type": "code",
   "execution_count": null,
   "metadata": {},
   "outputs": [],
   "source": []
  },
  {
   "cell_type": "markdown",
   "metadata": {},
   "source": [
    "# Q5. Write a program to identify duplicate values from list"
   ]
  },
  {
   "cell_type": "code",
   "execution_count": 11,
   "metadata": {},
   "outputs": [
    {
     "name": "stdout",
     "output_type": "stream",
     "text": [
      "[2, 3, 4]\n"
     ]
    }
   ],
   "source": [
    "\n",
    "def Repeat(x): \n",
    "    _size = len(x) \n",
    "    repeated = [] \n",
    "    for i in range(_size): \n",
    "        k = i + 1\n",
    "        for j in range(k, _size): \n",
    "            if x[i] == x[j] and x[i] not in repeated: \n",
    "                repeated.append(x[i]) \n",
    "    return repeated \n",
    "lst = [1, 2, 3, 4, 5, 2, 4, 6, 3, 4, 2]\n",
    "print(Repeat(lst))"
   ]
  },
  {
   "cell_type": "code",
   "execution_count": null,
   "metadata": {},
   "outputs": [],
   "source": []
  },
  {
   "cell_type": "markdown",
   "metadata": {},
   "source": [
    "# Q6. Write a python program to check if a given key already exist in a dictionary.\n"
   ]
  },
  {
   "cell_type": "code",
   "execution_count": 35,
   "metadata": {},
   "outputs": [
    {
     "name": "stdout",
     "output_type": "stream",
     "text": [
      "Please enter the Key you want to search for: kid\n",
      "Key is already exist.\n"
     ]
    }
   ],
   "source": [
    "d2 = {'boys': 2, 'girls':5, 'mature': 6, 'older': 3, 'kid':6,}\n",
    "key = input(\"Please enter the Key you want to search for: \")\n",
    "for i in d2:\n",
    "    i== key\n",
    "    print('Key is already exist.')\n",
    "    break\n",
    "else:\n",
    "    print('Key is not exist.')"
   ]
  },
  {
   "cell_type": "code",
   "execution_count": null,
   "metadata": {},
   "outputs": [],
   "source": []
  }
 ],
 "metadata": {
  "kernelspec": {
   "display_name": "Python 3",
   "language": "python",
   "name": "python3"
  },
  "language_info": {
   "codemirror_mode": {
    "name": "ipython",
    "version": 3
   },
   "file_extension": ".py",
   "mimetype": "text/x-python",
   "name": "python",
   "nbconvert_exporter": "python",
   "pygments_lexer": "ipython3",
   "version": "3.6.9"
  }
 },
 "nbformat": 4,
 "nbformat_minor": 2
}
